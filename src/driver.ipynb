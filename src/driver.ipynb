{
 "cells": [
  {
   "cell_type": "code",
   "execution_count": 1,
   "id": "d2181af4-6bbb-4917-9734-adeaa6a24a49",
   "metadata": {},
   "outputs": [
    {
     "name": "stderr",
     "output_type": "stream",
     "text": [
      "/Users/suraj/Library/Python/3.8/lib/python/site-packages/urllib3/__init__.py:35: NotOpenSSLWarning: urllib3 v2 only supports OpenSSL 1.1.1+, currently the 'ssl' module is compiled with 'LibreSSL 2.8.3'. See: https://github.com/urllib3/urllib3/issues/3020\n",
      "  warnings.warn(\n"
     ]
    }
   ],
   "source": [
    "from vidCon.vcon_class import InitiateVcon\n",
    "from vidCon.videoCon import GetVcon\n",
    "from vidCon.NER import PrivacyFilter\n",
    "from vidCon.SoundScrubber import SoundScrubber"
   ]
  },
  {
   "cell_type": "code",
   "execution_count": 2,
   "id": "3ac7957d-8716-4ab7-9770-2a615d29975e",
   "metadata": {},
   "outputs": [],
   "source": [
    "vCon = InitiateVcon()"
   ]
  },
  {
   "cell_type": "code",
   "execution_count": 3,
   "id": "8350151d-2170-4290-844d-5b2fb0683869",
   "metadata": {},
   "outputs": [
    {
     "name": "stdout",
     "output_type": "stream",
     "text": [
      "Audio read complete\n",
      "Transcription\n",
      "Transcription complete\n"
     ]
    }
   ],
   "source": [
    "#initialize vcon\n",
    "audio_file_name = \"./uploads/Data_Dr.m4a\"\n",
    "\n",
    "vcon_processor = GetVcon(audio_file_name)\n",
    "vcon_processor.read_audio()\n",
    "vcon_processor.decode_audio()\n",
    "vcon_processor.writeTempFile()\n",
    "vcon_processor.transcribe_audio()"
   ]
  },
  {
   "cell_type": "code",
   "execution_count": 4,
   "id": "92da9bbb-3d0b-4d06-b521-d20d604043d5",
   "metadata": {},
   "outputs": [],
   "source": [
    "transcribed_text = vcon_processor.vcon_['transcription']['transcribed_text']\n",
    "transcribed_timestamps = vcon_processor.vcon_['transcription']['transcribed_word_timestamps']"
   ]
  },
  {
   "cell_type": "code",
   "execution_count": 5,
   "id": "2d4bd247-08b3-4834-8732-3f9916a7812d",
   "metadata": {},
   "outputs": [
    {
     "name": "stdout",
     "output_type": "stream",
     "text": [
      "--- Model loading.... ---\n",
      "--- Model loaded! ---\n"
     ]
    },
    {
     "name": "stderr",
     "output_type": "stream",
     "text": [
      "/Users/suraj/Library/Python/3.8/lib/python/site-packages/transformers/pipelines/token_classification.py:392: UserWarning: Tokenizer does not support real words, using fallback heuristic\n",
      "  warnings.warn(\n"
     ]
    }
   ],
   "source": [
    "privacy_filter = PrivacyFilter()\n",
    "entities = privacy_filter.getEntities(transcribed_text)"
   ]
  },
  {
   "cell_type": "code",
   "execution_count": 6,
   "id": "03eb8140",
   "metadata": {},
   "outputs": [
    {
     "data": {
      "text/plain": [
       "[{'entity_group': 'FIRSTNAME',\n",
       "  'score': 0.7694283,\n",
       "  'word': ' John',\n",
       "  'start': 14,\n",
       "  'end': 19},\n",
       " {'entity_group': 'FIRSTNAME',\n",
       "  'score': 0.40592912,\n",
       "  'word': ' John',\n",
       "  'start': 39,\n",
       "  'end': 44},\n",
       " {'entity_group': 'CREDITCARDISSUER',\n",
       "  'score': 0.6680575,\n",
       "  'word': ' example.com.',\n",
       "  'start': 51,\n",
       "  'end': 64},\n",
       " {'entity_group': 'STREETADDRESS',\n",
       "  'score': 0.8340771,\n",
       "  'word': ' 1234 Main Street Springfield,',\n",
       "  'start': 74,\n",
       "  'end': 104},\n",
       " {'entity_group': 'STATE',\n",
       "  'score': 0.9968298,\n",
       "  'word': ' Illinois.',\n",
       "  'start': 104,\n",
       "  'end': 114},\n",
       " {'entity_group': 'ZIPCODE',\n",
       "  'score': 0.554984,\n",
       "  'word': ' 555',\n",
       "  'start': 133,\n",
       "  'end': 137},\n",
       " {'entity_group': 'PHONE_NUMBER',\n",
       "  'score': 0.4983812,\n",
       "  'word': ' 1234567.',\n",
       "  'start': 137,\n",
       "  'end': 146}]"
      ]
     },
     "execution_count": 6,
     "metadata": {},
     "output_type": "execute_result"
    }
   ],
   "source": [
    "entities"
   ]
  },
  {
   "cell_type": "code",
   "execution_count": 7,
   "id": "14f02250",
   "metadata": {},
   "outputs": [
    {
     "data": {
      "text/plain": [
       "' Hi my name is<Redacted> Doe and my email is<Redacted> Doe at<Redacted> I live in<Redacted><Redacted> My phone number is<Redacted><Redacted>'"
      ]
     },
     "execution_count": 7,
     "metadata": {},
     "output_type": "execute_result"
    }
   ],
   "source": [
    "redactions = sorted(entities, key=lambda x: x['start'], reverse=True)\n",
    "t = transcribed_text\n",
    "for redaction in redactions:\n",
    "    start = redaction['start']\n",
    "    end = redaction['end']\n",
    "    # Replace the specified range with '<Redacted>'\n",
    "    t = t[:start] + '<Redacted>' + t[end:]\n",
    "t"
   ]
  },
  {
   "cell_type": "code",
   "execution_count": null,
   "id": "adea94cf",
   "metadata": {},
   "outputs": [],
   "source": []
  },
  {
   "cell_type": "code",
   "execution_count": 8,
   "id": "43563922-3284-44c4-ae00-8e2f9aab2b00",
   "metadata": {},
   "outputs": [
    {
     "name": "stdout",
     "output_type": "stream",
     "text": [
      "Redacted audio saved at ./uploads/redacted.mp3\n",
      "Processing complete. Check the output audio file for redacted content.\n"
     ]
    }
   ],
   "source": [
    "sound_scrubber = SoundScrubber(audio_file_name)\n",
    "words_to_silence = sound_scrubber.getWordsToSilence(entities)\n",
    "words_to_silence  = [j for i in words_to_silence for j in i]\n",
    "sound_scrubber.silenceAudio(words_to_silence, transcribed_timestamps)\n",
    "print(\"Processing complete. Check the output audio file for redacted content.\")"
   ]
  },
  {
   "cell_type": "code",
   "execution_count": 16,
   "id": "861e5bb6",
   "metadata": {},
   "outputs": [
    {
     "data": {
      "text/plain": [
       "[{'word': ' Street',\n",
       "  'start': 8.0,\n",
       "  'end': 8.48,\n",
       "  'probability': 0.9401575922966003},\n",
       " {'word': ' Springfield,',\n",
       "  'start': 8.48,\n",
       "  'end': 9.36,\n",
       "  'probability': 0.8483898043632507},\n",
       " {'word': ' Illinois.',\n",
       "  'start': 9.54,\n",
       "  'end': 9.94,\n",
       "  'probability': 0.9454324841499329}]"
      ]
     },
     "execution_count": 16,
     "metadata": {},
     "output_type": "execute_result"
    }
   ],
   "source": [
    "transcribed_timestamps[20:]"
   ]
  },
  {
   "cell_type": "code",
   "execution_count": 9,
   "id": "db9595d5-43ce-42f4-84be-14ff57ede3c6",
   "metadata": {},
   "outputs": [],
   "source": [
    "from datetime import datetime"
   ]
  },
  {
   "cell_type": "code",
   "execution_count": 10,
   "id": "d0274117-1c18-4388-b573-5f291d734f85",
   "metadata": {},
   "outputs": [
    {
     "data": {
      "text/plain": [
       "'2024-03-24 02:11:08.002852'"
      ]
     },
     "execution_count": 10,
     "metadata": {},
     "output_type": "execute_result"
    }
   ],
   "source": [
    "dt = datetime.now()\n",
    "normal_form = dt.strftime(\"%Y-%m-%d %H:%M:%S.%f\")\n",
    "normal_form"
   ]
  },
  {
   "cell_type": "code",
   "execution_count": 11,
   "id": "b778b5b2-cab6-4f94-b700-eb9b4b20853d",
   "metadata": {},
   "outputs": [],
   "source": [
    "vCon.json_data['dialog'][0]['timestamp'] = normal_form"
   ]
  },
  {
   "cell_type": "code",
   "execution_count": 27,
   "id": "a9f8ccf8-25e4-478c-b1ab-da8e1c8c75e9",
   "metadata": {},
   "outputs": [],
   "source": [
    "vCon.json_data['dialog'][0]['content'] = vcon_processor.encoded_bytes"
   ]
  },
  {
   "cell_type": "code",
   "execution_count": 28,
   "id": "cddf90d5-c66e-4f80-a018-004a38dd9c27",
   "metadata": {},
   "outputs": [],
   "source": [
    "vCon.json_data['analysis']['transcriptions'][0]['text'] = transcribed_text"
   ]
  },
  {
   "cell_type": "code",
   "execution_count": 29,
   "id": "68594e26-ec3e-403f-a88f-cc96d56c651e",
   "metadata": {},
   "outputs": [],
   "source": [
    "vCon.json_data['analysis']['entities'] = entities"
   ]
  },
  {
   "cell_type": "code",
   "execution_count": 30,
   "id": "8f8adad7-78c3-406c-bbd3-32176df4ea21",
   "metadata": {},
   "outputs": [],
   "source": [
    "vCon.json_data['analysis']['transcribed_timestamps'] = transcribed_timestamps"
   ]
  },
  {
   "cell_type": "code",
   "execution_count": null,
   "id": "75b691da-f59e-4716-8ebc-fd1f88bdb0d6",
   "metadata": {},
   "outputs": [],
   "source": []
  }
 ],
 "metadata": {
  "interpreter": {
   "hash": "31f2aee4e71d21fbe5cf8b01ff0e069b9275f58929596ceb00d14d90e3e16cd6"
  },
  "kernelspec": {
   "display_name": "Python 3.8.9 64-bit",
   "language": "python",
   "name": "python3"
  },
  "language_info": {
   "codemirror_mode": {
    "name": "ipython",
    "version": 3
   },
   "file_extension": ".py",
   "mimetype": "text/x-python",
   "name": "python",
   "nbconvert_exporter": "python",
   "pygments_lexer": "ipython3",
   "version": "3.8.9"
  }
 },
 "nbformat": 4,
 "nbformat_minor": 5
}
